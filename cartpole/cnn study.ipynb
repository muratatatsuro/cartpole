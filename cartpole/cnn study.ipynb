{
 "cells": [
  {
   "cell_type": "code",
   "execution_count": 14,
   "metadata": {},
   "outputs": [
    {
     "name": "stdout",
     "output_type": "stream",
     "text": [
      "Epoch 1/5\n",
      "60000/60000 [==============================] - 58s 968us/step - loss: 0.1810 - acc: 0.9429\n",
      "Epoch 2/5\n",
      "60000/60000 [==============================] - 58s 962us/step - loss: 0.0460 - acc: 0.9854\n",
      "Epoch 3/5\n",
      "60000/60000 [==============================] - 59s 977us/step - loss: 0.0315 - acc: 0.9906\n",
      "Epoch 4/5\n",
      "60000/60000 [==============================] - 58s 965us/step - loss: 0.0234 - acc: 0.9927\n",
      "Epoch 5/5\n",
      "60000/60000 [==============================] - 58s 968us/step - loss: 0.0178 - acc: 0.9945\n",
      "10000/10000 [==============================] - 5s 451us/step\n",
      "accuracy: 0.9871 loss: 0.04586043829508162\n"
     ]
    }
   ],
   "source": [
    "import tensorflow as tf\n",
    "import keras\n",
    "import numpy as np\n",
    "from keras.datasets import mnist\n",
    "from keras.models import Sequential\n",
    "from keras.layers import Dense,Conv2D,Dropout,MaxPooling2D,Flatten\n",
    "from keras.optimizers import RMSprop\n",
    "import matplotlib.pyplot as plt\n",
    "%matplotlib inline\n",
    "(x_train,y_train),(x_test,y_test)=mnist.load_data()\n",
    "x_train=x_train.reshape(-1,28,28,1).astype('float32')/255\n",
    "x_test=x_test.reshape(-1,28,28,1).astype('float32')/255\n",
    "\n",
    "y_train=keras.utils.to_categorical(y_train,10)\n",
    "y_test=keras.utils.to_categorical(y_test,10)\n",
    "#plt.imshow(x_train[0],cmap='gray')\n",
    "#plt.show()\n",
    "\n",
    "model=Sequential()\n",
    "model.add(Conv2D(16,(3,3),activation='relu',input_shape=(28,28,1)))\n",
    "model.add(MaxPooling2D((2,2)))\n",
    "model.add(Conv2D(24,(3,3),activation='relu'))\n",
    "model.add(MaxPooling2D((2,2)))\n",
    "model.add(Flatten())\n",
    "model.add(Dense(1024,activation='relu'))\n",
    "model.add(Dense(512,activation='relu'))\n",
    "model.add(Dense(10,activation='softmax'))\n",
    "\n",
    "model.compile(loss='categorical_crossentropy',optimizer=RMSprop(),metrics=['accuracy'])\n",
    "\n",
    "hist=model.fit(x_train,y_train,batch_size=128,epochs=5,verbose=1)\n",
    "\n",
    "score=model.evaluate(x_test,y_test,verbose=1)\n",
    "print('accuracy:',score[1],'loss:',score[0])\n",
    "\n",
    "\n",
    "\n"
   ]
  },
  {
   "cell_type": "code",
   "execution_count": 16,
   "metadata": {},
   "outputs": [
    {
     "name": "stdout",
     "output_type": "stream",
     "text": [
      "tr(name_a='A', value_b=100)\n",
      "100\n"
     ]
    }
   ],
   "source": [
    "from collections import namedtuple\n",
    "Tr=namedtuple('tr',('name_a','value_b'))\n",
    "Tr_object=Tr('A',100)\n",
    "print(Tr_object)\n",
    "print(Tr_object.value_b)"
   ]
  },
  {
   "cell_type": "code",
   "execution_count": null,
   "metadata": {},
   "outputs": [],
   "source": []
  }
 ],
 "metadata": {
  "kernelspec": {
   "display_name": "Python 3",
   "language": "python",
   "name": "python3"
  }
 },
 "nbformat": 4,
 "nbformat_minor": 2
}
