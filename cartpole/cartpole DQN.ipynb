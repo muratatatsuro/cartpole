{
 "cells": [
  {
   "cell_type": "code",
   "execution_count": 1,
   "metadata": {},
   "outputs": [],
   "source": [
    "import numpy as np\n",
    "import matplotlib.pyplot as plt\n",
    "%matplotlib inline\n",
    "import gym"
   ]
  },
  {
   "cell_type": "code",
   "execution_count": 2,
   "metadata": {},
   "outputs": [],
   "source": [
    "from JSAnimation.IPython_display import display_animation\n",
    "from matplotlib import animation\n",
    "from IPython.display import display\n",
    "\n",
    "def display_frames_as_gif(frames):\n",
    "    plt.figure(figsize=(frames[0].shape[1]/72.0,frames[0].shape[0]/72.0),dpi=72.0)\n",
    "    patch=plt.imshow(frames[0])\n",
    "    plt.axis('off')\n",
    "    \n",
    "    def animate(i):\n",
    "        patch.set_data(frames[i])\n",
    "        \n",
    "    anim=animation.FuncAnimation(plt.gcf(),animate,frames=len(frames),interval=50)\n",
    "    anim.save('movie-cartpole-DQN.mp4')\n",
    "    display(display_animation(anim,default_mode='loop'))\n",
    "    "
   ]
  },
  {
   "cell_type": "code",
   "execution_count": 3,
   "metadata": {},
   "outputs": [],
   "source": [
    "#名前をつけて値を格納していく\n",
    "from collections import namedtuple\n",
    "Transition=namedtuple('Transition',('state','action','next_state','reward'))"
   ]
  },
  {
   "cell_type": "code",
   "execution_count": 4,
   "metadata": {},
   "outputs": [],
   "source": [
    "#経験を保存するクラスを定義\n",
    "import random\n",
    "class ReplayMemory():\n",
    "    def __init__(self,capacity):\n",
    "        self.capacity=capacity\n",
    "        self.memory=[]\n",
    "        self.index=0#保存するインデックスを示す変数\n",
    "        \n",
    "    def push(self,state,action,next_state,reward):\n",
    "        if len(self.memory)<self.capacity:\n",
    "            self.memory.append(None)\n",
    "            \n",
    "        self.memory[self.index]=Transition(state,action,next_state,reward)\n",
    "        self.index=(self.index+1)%self.capacity\n",
    "        \n",
    "    def sample(self,batch_size):\n",
    "        return random.sample(self.memory,batch_size)\n",
    "    \n",
    "    #memoryの長さを返す\n",
    "    def __len__(self):\n",
    "        return len(self.memory)"
   ]
  },
  {
   "cell_type": "code",
   "execution_count": null,
   "metadata": {},
   "outputs": [],
   "source": [
    "#agentの脳みそ\n",
    "import tensorflow as tf\n",
    "import keras\n",
    "from keras.models import Sequential\n",
    "from keras.layers import Dense,Conv2D,MaxPooling2D\n",
    "from keras.layers import Dropout,Flatten\n",
    "from keras.optimizers import RMSprop\n",
    "\n",
    "\n",
    "batch_size=32\n",
    "capacity=10000\n",
    "\n",
    "class Brain():\n",
    "    def __init__(self,num_states,num_actions):\n",
    "        #行動選択の個数\n",
    "        self.num_actions=num_actions\n",
    "        \n",
    "        self.memory=ReplayMemory(capacity)\n",
    "        \n",
    "        #脳みその構造を構築 selfで脳構造をインスタンス化\n",
    "        self.model=Sequential()\n",
    "        self.model.add(Dense(32,activation='relu',input_shape=(num_states)))\n",
    "        self.model.add(Dense(32,activation='relu'))\n",
    "        self.model.add(Dense(num_actions,activation='relu'))\n",
    "    \n",
    "    def replay(self):\n",
    "        if len(self.memory)<batch_size:\n",
    "            return\n",
    "        #遷移　メモリーの中から抽出\n",
    "        transitions=self.memory.sample(batch_size)\n",
    "        #(state,action,next_state,reward)*batch_size==>>\n",
    "        #(state*batch_size,action*batch_size,next_state*batch_size,reward*batch_size)\n",
    "        batch=Transitions(*zip(*transitions))\n",
    "        \n",
    "        state_batch=np.concatenate(batch.state)\n",
    "        action_batch=np.concatenate(batch.action)\n",
    "        reward_batch=np.concatenate(batch.reward)\n",
    "        \n",
    "        non_final_next_state=np.concatenate([s for s in batch.next_state if s is not None])\n",
    "        \n",
    "        \n",
    "        "
   ]
  }
 ],
 "metadata": {
  "kernelspec": {
   "display_name": "Python 3",
   "language": "python",
   "name": "python3"
  },
  "language_info": {
   "codemirror_mode": {
    "name": "ipython",
    "version": 3
   },
   "file_extension": ".py",
   "mimetype": "text/x-python",
   "name": "python",
   "nbconvert_exporter": "python",
   "pygments_lexer": "ipython3",
   "version": "3.6.6"
  }
 },
 "nbformat": 4,
 "nbformat_minor": 2
}
